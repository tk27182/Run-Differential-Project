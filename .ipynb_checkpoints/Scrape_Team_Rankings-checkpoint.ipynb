{
 "cells": [
  {
   "cell_type": "code",
   "execution_count": 13,
   "metadata": {},
   "outputs": [],
   "source": [
    "import pandas as pd\n",
    "from bs4 import BeautifulSoup\n",
    "from lxml import html\n",
    "import requests\n",
    "import re\n",
    "import json\n",
    "import numpy as np\n",
    "import scipy as sp\n",
    "import matplotlib.pyplot as plt\n",
    "import seaborn as sns\n",
    "from datetime import datetime"
   ]
  },
  {
   "cell_type": "code",
   "execution_count": 15,
   "metadata": {},
   "outputs": [],
   "source": [
    "# This cell scrapes the run differential data from the Team Rankings website\n",
    "start_date = '03-18'\n",
    "end_date = '11-15'\n",
    "\n",
    "years = np.arange(2007, 2018+1, 1)\n",
    "url = f'https://www.teamrankings.com/mlb/stat/run-differential?date='"
   ]
  },
  {
   "cell_type": "code",
   "execution_count": 12,
   "metadata": {},
   "outputs": [],
   "source": [
    "def get_data(url, years):\n",
    "    return"
   ]
  },
  {
   "cell_type": "code",
   "execution_count": 16,
   "metadata": {},
   "outputs": [],
   "source": [
    "dates = pd.date_range('2007-'+start_date, '2007-'+end_date).tolist()"
   ]
  },
  {
   "cell_type": "code",
   "execution_count": 17,
   "metadata": {},
   "outputs": [],
   "source": [
    "page = requests.get(url+'2007-'+start_date)"
   ]
  },
  {
   "cell_type": "code",
   "execution_count": 41,
   "metadata": {},
   "outputs": [
    {
     "name": "stdout",
     "output_type": "stream",
     "text": [
      "Document contains 1 HTML Table(s).\n"
     ]
    }
   ],
   "source": [
    "html = page.content\n",
    "\n",
    "soup = BeautifulSoup(html, 'lxml')\n",
    "\n",
    "tables = soup.find_all('table')\n",
    "\n",
    "print('Document contains {0} HTML Table(s).'.format(len(tables)))"
   ]
  },
  {
   "cell_type": "code",
   "execution_count": 42,
   "metadata": {},
   "outputs": [
    {
     "name": "stdout",
     "output_type": "stream",
     "text": [
      "['Rank', 'Team', '2006', 'Last 3', 'Last 1', 'Home', 'Away', '2005']\n"
     ]
    }
   ],
   "source": [
    "# Get the column names for the \n",
    "columns = []\n",
    "for row in tables[0].thead.tr.find_all('th'):\n",
    "    val = row.contents[0].strip()\n",
    "    columns.append(val)\n",
    "print(columns)"
   ]
  },
  {
   "cell_type": "code",
   "execution_count": 43,
   "metadata": {},
   "outputs": [],
   "source": [
    "tb = tables[0].tbody.find_all('tr')\n",
    "\n",
    "li = {}\n",
    "for row in tb:\n",
    "    tdx = [val for val in row.find_all('td')]\n",
    "    rd = tdx[2].contents[0].strip()\n",
    "    team = tdx[1].a.contents[0].strip()\n",
    "    li[team] = [dates[3], rd]"
   ]
  },
  {
   "cell_type": "code",
   "execution_count": 44,
   "metadata": {},
   "outputs": [],
   "source": [
    "def get_run_diff(dates):\n",
    "    \n",
    "    lis = []\n",
    "    for i in range(len(dates)):\n",
    "        # Grab HTML from webpage\n",
    "        html = requests.get(base_url+dates[i]).content\n",
    "\n",
    "        #Parse HTML\n",
    "        new_soup = BeautifulSoup(html, 'lxml')\n",
    "        \n",
    "        # Grab the tables\n",
    "        tables = new_soup.find_all('table')\n",
    "        \n",
    "        tb = tables[0].tbody.find_all('tr')\n",
    "        \n",
    "        li = {}\n",
    "        for row in tb:\n",
    "            tdx = [val for val in row.find_all('td')]\n",
    "            rd = tdx[2].contents[0].strip()\n",
    "            team = tdx[1].a.contents[0].strip()\n",
    "            li[team] = [dates[i], rd]\n",
    "        \n",
    "        lis.append(li)\n",
    "        \n",
    "    return lis"
   ]
  },
  {
   "cell_type": "code",
   "execution_count": null,
   "metadata": {},
   "outputs": [],
   "source": []
  }
 ],
 "metadata": {
  "kernelspec": {
   "display_name": "Python 3",
   "language": "python",
   "name": "python3"
  },
  "language_info": {
   "codemirror_mode": {
    "name": "ipython",
    "version": 3
   },
   "file_extension": ".py",
   "mimetype": "text/x-python",
   "name": "python",
   "nbconvert_exporter": "python",
   "pygments_lexer": "ipython3",
   "version": "3.7.3"
  }
 },
 "nbformat": 4,
 "nbformat_minor": 2
}
